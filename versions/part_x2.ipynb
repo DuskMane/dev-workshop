{
  "nbformat": 4,
  "nbformat_minor": 0,
  "metadata": {
    "colab": {
      "provenance": [],
      "collapsed_sections": [
        "1XmDLiHiHowR",
        "Rjbm7YMdKJLL"
      ]
    },
    "kernelspec": {
      "name": "python3",
      "display_name": "Python 3"
    },
    "language_info": {
      "name": "python"
    }
  },
  "cells": [
    {
      "cell_type": "code",
      "execution_count": 1,
      "metadata": {
        "colab": {
          "base_uri": "https://localhost:8080/"
        },
        "id": "782S9yXuJizy",
        "outputId": "daec4b45-b739-4358-ca4b-9b10f7c72d22"
      },
      "outputs": [
        {
          "output_type": "stream",
          "name": "stdout",
          "text": [
            "Mounted at /content/drive\n"
          ]
        }
      ],
      "source": [
        "from google.colab import drive\n",
        "drive.mount('/content/drive')"
      ]
    },
    {
      "cell_type": "markdown",
      "source": [
        "# Preprocessing"
      ],
      "metadata": {
        "id": "1XmDLiHiHowR"
      }
    },
    {
      "cell_type": "code",
      "source": [
        "import pandas as pd\n",
        "import html\n",
        "import re"
      ],
      "metadata": {
        "id": "pvrfswT98ZlY"
      },
      "execution_count": 67,
      "outputs": []
    },
    {
      "cell_type": "code",
      "source": [
        "mails = pd.read_csv('/content/drive/MyDrive/kluza/all_mails.csv', header=0)\n",
        "keywords = pd.read_csv('/content/drive/MyDrive/kluza/keywords.csv', header=0)\n",
        "metalabel = pd.read_csv('/content/drive/MyDrive/kluza/metalabel.csv', header=0)"
      ],
      "metadata": {
        "id": "_WQneYrx8eW0"
      },
      "execution_count": 68,
      "outputs": []
    },
    {
      "cell_type": "code",
      "source": [
        "def clear_text(text):\n",
        "  cleared_text = html.unescape(text)\n",
        "  cleared_text = cleared_text.split('\\n>')[0]\n",
        "  cleared_text = cleared_text.replace('\\n', ' ')\n",
        "  return cleared_text\n",
        "mails['content'] = mails['content'].apply(clear_text)"
      ],
      "metadata": {
        "id": "sACXUb768fhy"
      },
      "execution_count": 69,
      "outputs": []
    },
    {
      "cell_type": "code",
      "source": [
        "import nltk\n",
        "from nltk.corpus import stopwords\n",
        "from nltk.stem import WordNetLemmatizer\n",
        "nltk.download('stopwords')\n",
        "nltk.download('wordnet')"
      ],
      "metadata": {
        "colab": {
          "base_uri": "https://localhost:8080/"
        },
        "id": "jjjwCqCMJw2i",
        "outputId": "6a6ef7ff-2ff3-4659-af28-8de082339188"
      },
      "execution_count": 70,
      "outputs": [
        {
          "output_type": "stream",
          "name": "stderr",
          "text": [
            "[nltk_data] Downloading package stopwords to /root/nltk_data...\n",
            "[nltk_data]   Package stopwords is already up-to-date!\n",
            "[nltk_data] Downloading package wordnet to /root/nltk_data...\n",
            "[nltk_data]   Package wordnet is already up-to-date!\n"
          ]
        },
        {
          "output_type": "execute_result",
          "data": {
            "text/plain": [
              "True"
            ]
          },
          "metadata": {},
          "execution_count": 70
        }
      ]
    },
    {
      "cell_type": "code",
      "source": [
        "stop_words = set(stopwords.words('english'))\n",
        "lemmatizer = WordNetLemmatizer()\n",
        "\n",
        "def preprocess_text(text):\n",
        "    # Remove unnecessary characters, symbols, and punctuation\n",
        "    cleaned_text = re.sub(r'[^\\w\\s]', '', text)\n",
        "\n",
        "    cleaned_text = cleaned_text.lower()\n",
        "\n",
        "    # Remove words starting with 'https'\n",
        "    cleaned_text = re.sub(r'\\bhttps\\w+\\b', '', cleaned_text)\n",
        "\n",
        "    # Remove stopwords\n",
        "    tokens = cleaned_text.split()\n",
        "    filtered_tokens = [token for token in tokens if token not in stop_words]\n",
        "\n",
        "    # Lemmatization\n",
        "    lemmatized_tokens = [lemmatizer.lemmatize(token) for token in filtered_tokens]\n",
        "\n",
        "    return ' '.join(lemmatized_tokens)\n",
        "\n",
        "mails['content'] = mails['content'].apply(preprocess_text)"
      ],
      "metadata": {
        "id": "SJQd-Uj9JzKU"
      },
      "execution_count": 71,
      "outputs": []
    },
    {
      "cell_type": "markdown",
      "source": [
        "# Observation"
      ],
      "metadata": {
        "id": "Rjbm7YMdKJLL"
      }
    },
    {
      "cell_type": "code",
      "source": [
        "mails['content'][100]"
      ],
      "metadata": {
        "colab": {
          "base_uri": "https://localhost:8080/",
          "height": 0
        },
        "id": "Y8xLKX_hJ6LE",
        "outputId": "dad03a2e-ebef-4c87-8056-4728cc0a7de4"
      },
      "execution_count": 60,
      "outputs": [
        {
          "output_type": "execute_result",
          "data": {
            "text/plain": [
              "'work camel11108 started luca burgazzoli'"
            ],
            "application/vnd.google.colaboratory.intrinsic+json": {
              "type": "string"
            }
          },
          "metadata": {},
          "execution_count": 60
        }
      ]
    },
    {
      "cell_type": "code",
      "source": [
        "mails['content'][101]"
      ],
      "metadata": {
        "colab": {
          "base_uri": "https://localhost:8080/",
          "height": 0
        },
        "id": "xAYUvsctKD6V",
        "outputId": "d330576d-a7e7-4870-80c9-b5d177162755"
      },
      "execution_count": 61,
      "outputs": [
        {
          "output_type": "execute_result",
          "data": {
            "text/plain": [
              "'asf github bot commented camel11108 github user lburgazzoli opened pull request wip camel11108 camelinfinispan change uri syntax infinispanhostname infinispancachename tristantarrant may check missed something infinispan side merge pull request git repository running git pull camel11108 alternatively review apply change patch close pull request make commit mastertrunk branch least following commit message close 1604 commit 14fa5e5156e3e0e0e76cfdd23427a06febc27714 author lburgazzoli lburgazzoligmailcom date 20170406t131154z camel11108 camelinfinispan change uri syntax infinispanhostname infinispancachename'"
            ],
            "application/vnd.google.colaboratory.intrinsic+json": {
              "type": "string"
            }
          },
          "metadata": {},
          "execution_count": 61
        }
      ]
    },
    {
      "cell_type": "code",
      "source": [
        "mails['content_url'][101]"
      ],
      "metadata": {
        "colab": {
          "base_uri": "https://localhost:8080/",
          "height": 0
        },
        "id": "CBSXYoQ_KzKq",
        "outputId": "4bf7ab6c-1f42-48cd-8c4f-ebb215c9d7cd"
      },
      "execution_count": 62,
      "outputs": [
        {
          "output_type": "execute_result",
          "data": {
            "text/plain": [
              "'http://mail-archives.apache.org/mod_mbox/camel-issues/201704.mbox/ajax/%3CJIRA.13061654.1491378117000.225309.1491493301861%40Atlassian.JIRA%3E'"
            ],
            "application/vnd.google.colaboratory.intrinsic+json": {
              "type": "string"
            }
          },
          "metadata": {},
          "execution_count": 62
        }
      ]
    },
    {
      "cell_type": "markdown",
      "source": [
        "# Event log extraction"
      ],
      "metadata": {
        "id": "kMEXscNjMrFi"
      }
    },
    {
      "cell_type": "code",
      "source": [
        "import spacy\n",
        "from spacy.matcher import Matcher\n",
        "import re\n",
        "nlp = spacy.load('en_core_web_sm')\n",
        "matcher = Matcher(nlp.vocab)"
      ],
      "metadata": {
        "id": "JzrYSfnqNRN7"
      },
      "execution_count": 79,
      "outputs": []
    },
    {
      "cell_type": "code",
      "source": [
        "event_patterns = [\n",
        "    [{\"LOWER\": \"resolve\"}],\n",
        "    [{\"LOWER\": \"close\"}],\n",
        "    [{\"LOWER\": \"fix\"}],\n",
        "    [{\"LOWER\": \"create\"}],\n",
        "    [{\"LOWER\": \"comment\"}],\n",
        "    [{\"LOWER\": \"pull request\"}],\n",
        "    [{\"LOWER\": \"push request\"}],\n",
        "    [{\"LOWER\": \"merge\"}],\n",
        "    [{\"LOWER\": \"commit\"}],\n",
        "    [{\"LOWER\": \"customize\"}],\n",
        "    [{\"LOWER\": \"start\"}],\n",
        "    [{\"LOWER\": \"apply change\"}],\n",
        "    [{\"LOWER\": \"update\"}],\n",
        "    [{\"LOWER\": \"review\"}],\n",
        "    [{\"LOWER\": \"add feature\"}],\n",
        "    [{\"LOWER\": \"implement\"}],\n",
        "    # Add more patterns as needed\n",
        "]\n",
        "\n",
        "def extract_event(doc):\n",
        "    for pattern in event_patterns:\n",
        "        matcher.add(\"Event\", [pattern])\n",
        "    matches = matcher(doc)\n",
        "\n",
        "    events = []\n",
        "    for match_id, start, end in matches:\n",
        "        events.append(doc[start:end].text)\n",
        "\n",
        "    return events if events else None\n",
        "\n",
        "def extract_object(doc, event):\n",
        "    for token in doc:\n",
        "        if token.lower_ == event:\n",
        "            for child in token.children:\n",
        "                if child.dep_ in ['dobj', 'attr'] and child.pos_ == 'NOUN':\n",
        "                    subtree_tokens = [t.text for t in child.subtree]\n",
        "                    for entity in doc.ents:\n",
        "                        if entity.text in subtree_tokens:\n",
        "                            return entity.text\n",
        "    return None\n",
        "\n",
        "\n",
        "\n",
        "def extract_actor(doc):\n",
        "    actors = []\n",
        "    for entity in doc.ents:\n",
        "        if entity.label_ == \"PERSON\":\n",
        "            actors.append(entity.text)\n",
        "\n",
        "    if actors:\n",
        "        return actors[0]\n",
        "\n",
        "    return None\n"
      ],
      "metadata": {
        "id": "Fi2mXwyUK-2a"
      },
      "execution_count": 80,
      "outputs": []
    },
    {
      "cell_type": "code",
      "source": [
        "ocel_entries = []\n",
        "\n",
        "for i in range(10):\n",
        "    doc = nlp(mails['content'][i])\n",
        "    events = extract_event(doc)\n",
        "\n",
        "    if events:\n",
        "        for event in events:\n",
        "            event_entry = {}\n",
        "            event_entry['Event'] = event\n",
        "            event_entry['Object'] = extract_object(doc, event)\n",
        "            event_entry['Actor'] = extract_actor(doc)\n",
        "            event_entry['Timestamp'] = mails['date'][i]\n",
        "\n",
        "            ocel_entries.append(event_entry)"
      ],
      "metadata": {
        "id": "FheBqFlCNGwR"
      },
      "execution_count": 81,
      "outputs": []
    },
    {
      "cell_type": "code",
      "source": [
        "ocel_entries"
      ],
      "metadata": {
        "colab": {
          "base_uri": "https://localhost:8080/"
        },
        "id": "H63gQiEnNIic",
        "outputId": "43492d93-bbec-4e1c-c578-3d32556683c9"
      },
      "execution_count": 82,
      "outputs": [
        {
          "output_type": "execute_result",
          "data": {
            "text/plain": [
              "[{'Event': 'create',\n",
              "  'Object': None,\n",
              "  'Actor': 'daniel fullarton',\n",
              "  'Timestamp': 'Sun, 02 Apr, 23:59'},\n",
              " {'Event': 'resolve',\n",
              "  'Object': None,\n",
              "  'Actor': 'asf github',\n",
              "  'Timestamp': 'Mon, 03 Apr, 00:01'},\n",
              " {'Event': 'merge',\n",
              "  'Object': None,\n",
              "  'Actor': 'asf github',\n",
              "  'Timestamp': 'Mon, 03 Apr, 00:01'},\n",
              " {'Event': 'review',\n",
              "  'Object': None,\n",
              "  'Actor': 'asf github',\n",
              "  'Timestamp': 'Mon, 03 Apr, 00:01'},\n",
              " {'Event': 'close',\n",
              "  'Object': None,\n",
              "  'Actor': 'asf github',\n",
              "  'Timestamp': 'Mon, 03 Apr, 00:01'},\n",
              " {'Event': 'commit',\n",
              "  'Object': '34edd2cd3edc83b10c4c9bae0518fcf8ca144735',\n",
              "  'Actor': 'asf github',\n",
              "  'Timestamp': 'Mon, 03 Apr, 00:01'},\n",
              " {'Event': 'commit',\n",
              "  'Object': '34edd2cd3edc83b10c4c9bae0518fcf8ca144735',\n",
              "  'Actor': 'asf github',\n",
              "  'Timestamp': 'Mon, 03 Apr, 00:01'},\n",
              " {'Event': 'close',\n",
              "  'Object': None,\n",
              "  'Actor': 'asf github',\n",
              "  'Timestamp': 'Mon, 03 Apr, 00:01'},\n",
              " {'Event': 'commit',\n",
              "  'Object': '34edd2cd3edc83b10c4c9bae0518fcf8ca144735',\n",
              "  'Actor': 'asf github',\n",
              "  'Timestamp': 'Mon, 03 Apr, 00:01'},\n",
              " {'Event': 'resolve',\n",
              "  'Object': None,\n",
              "  'Actor': 'asf github',\n",
              "  'Timestamp': 'Mon, 03 Apr, 00:01'},\n",
              " {'Event': 'fix',\n",
              "  'Object': None,\n",
              "  'Actor': 'zoran regvart',\n",
              "  'Timestamp': 'Tue, 04 Apr, 13:33'},\n",
              " {'Event': 'fix',\n",
              "  'Object': None,\n",
              "  'Actor': 'zoran regvart',\n",
              "  'Timestamp': 'Wed, 12 Apr, 08:46'},\n",
              " {'Event': 'fix', 'Object': None, 'Actor': 'zoran regvart', 'Timestamp': nan}]"
            ]
          },
          "metadata": {},
          "execution_count": 82
        }
      ]
    },
    {
      "cell_type": "markdown",
      "source": [
        "# More Observations"
      ],
      "metadata": {
        "id": "LfMRNK4WOPXE"
      }
    },
    {
      "cell_type": "code",
      "source": [
        "mails['content_url'][1]"
      ],
      "metadata": {
        "colab": {
          "base_uri": "https://localhost:8080/",
          "height": 35
        },
        "id": "7NvIHwV_NXvO",
        "outputId": "8a8462bd-04d8-4359-d615-2b760d4d87ca"
      },
      "execution_count": 25,
      "outputs": [
        {
          "output_type": "execute_result",
          "data": {
            "text/plain": [
              "'http://mail-archives.apache.org/mod_mbox/camel-issues/201704.mbox/ajax/%3CJIRA.13061008.1491177558000.187519.1491177687915%40Atlassian.JIRA%3E'"
            ],
            "application/vnd.google.colaboratory.intrinsic+json": {
              "type": "string"
            }
          },
          "metadata": {},
          "execution_count": 25
        }
      ]
    },
    {
      "cell_type": "code",
      "source": [
        "mails['content'][1]"
      ],
      "metadata": {
        "colab": {
          "base_uri": "https://localhost:8080/",
          "height": 89
        },
        "id": "kHorwFKQOCEN",
        "outputId": "47792cf2-ff74-4e69-d457-6e984dca2fda"
      },
      "execution_count": 50,
      "outputs": [
        {
          "output_type": "execute_result",
          "data": {
            "text/plain": [
              "'asf github bot commented camel11099 github user linead opened pull request camel11099 resolve issue caused unresolve element hanging tâ merge pull request git repository running git pull soapfaulterrorhandling alternatively review apply change patch close pull request make commit mastertrunk branch least following commit message close 1589 commit 34edd2cd3edc83b10c4c9bae0518fcf8ca144735 author daniel fullarton danielfullartonnabcomau date 20170402t233213z camel11099 resolve issue caused unresolve element hanging faul detail'"
            ],
            "application/vnd.google.colaboratory.intrinsic+json": {
              "type": "string"
            }
          },
          "metadata": {},
          "execution_count": 50
        }
      ]
    },
    {
      "cell_type": "code",
      "source": [
        "mails.head()"
      ],
      "metadata": {
        "colab": {
          "base_uri": "https://localhost:8080/",
          "height": 354
        },
        "id": "vO0eKnX-Nly9",
        "outputId": "be60617b-48cf-4514-da09-b4e7ca95f1af"
      },
      "execution_count": 26,
      "outputs": [
        {
          "output_type": "execute_result",
          "data": {
            "text/plain": [
              "   Unnamed: 0  id                   author  \\\n",
              "0           0   1  Daniel Fullarton (JIRA)   \n",
              "1           1   2    ASF GitHub Bot (JIRA)   \n",
              "2           2   3     Zoran Regvart (JIRA)   \n",
              "3           3   4    ASF GitHub Bot (JIRA)   \n",
              "4           4   5                      NaN   \n",
              "\n",
              "                                             subject                date  \\\n",
              "0    [jira] [Created] (CAMEL-11099) Unhandled Cla...  Sun, 02 Apr, 23:59   \n",
              "1    [jira] [Commented] (CAMEL-11099) Unhandled C...  Mon, 03 Apr, 00:01   \n",
              "2    [jira] [Resolved] (CAMEL-11099) Unhandled Cl...  Tue, 04 Apr, 13:33   \n",
              "3    [jira] [Commented] (CAMEL-11099) Unhandled C...  Wed, 05 Apr, 01:38   \n",
              "4  [jira] [Commented] (CAMEL-11092) If setting Ex...                 NaN   \n",
              "\n",
              "                                         content_url   dtype  \\\n",
              "0  http://mail-archives.apache.org/mod_mbox/camel...  issues   \n",
              "1  http://mail-archives.apache.org/mod_mbox/camel...  issues   \n",
              "2  http://mail-archives.apache.org/mod_mbox/camel...  issues   \n",
              "3  http://mail-archives.apache.org/mod_mbox/camel...  issues   \n",
              "4  http://mail-archives.apache.org/mod_mbox/camel...  issues   \n",
              "\n",
              "                                             content  \n",
              "0  daniel fullarton created camel11099 summary un...  \n",
              "1  asf github bot commented camel11099github user...  \n",
              "2  regvart resolved camel11099 resolution fixed a...  \n",
              "3  asf github bot commented camel11099github user...  \n",
              "4  asf github bot commented camel11099github user...  "
            ],
            "text/html": [
              "\n",
              "\n",
              "  <div id=\"df-b54d28f7-dea5-45af-a6e8-459ef8f45f7b\">\n",
              "    <div class=\"colab-df-container\">\n",
              "      <div>\n",
              "<style scoped>\n",
              "    .dataframe tbody tr th:only-of-type {\n",
              "        vertical-align: middle;\n",
              "    }\n",
              "\n",
              "    .dataframe tbody tr th {\n",
              "        vertical-align: top;\n",
              "    }\n",
              "\n",
              "    .dataframe thead th {\n",
              "        text-align: right;\n",
              "    }\n",
              "</style>\n",
              "<table border=\"1\" class=\"dataframe\">\n",
              "  <thead>\n",
              "    <tr style=\"text-align: right;\">\n",
              "      <th></th>\n",
              "      <th>Unnamed: 0</th>\n",
              "      <th>id</th>\n",
              "      <th>author</th>\n",
              "      <th>subject</th>\n",
              "      <th>date</th>\n",
              "      <th>content_url</th>\n",
              "      <th>dtype</th>\n",
              "      <th>content</th>\n",
              "    </tr>\n",
              "  </thead>\n",
              "  <tbody>\n",
              "    <tr>\n",
              "      <th>0</th>\n",
              "      <td>0</td>\n",
              "      <td>1</td>\n",
              "      <td>Daniel Fullarton (JIRA)</td>\n",
              "      <td>[jira] [Created] (CAMEL-11099) Unhandled Cla...</td>\n",
              "      <td>Sun, 02 Apr, 23:59</td>\n",
              "      <td>http://mail-archives.apache.org/mod_mbox/camel...</td>\n",
              "      <td>issues</td>\n",
              "      <td>daniel fullarton created camel11099 summary un...</td>\n",
              "    </tr>\n",
              "    <tr>\n",
              "      <th>1</th>\n",
              "      <td>1</td>\n",
              "      <td>2</td>\n",
              "      <td>ASF GitHub Bot (JIRA)</td>\n",
              "      <td>[jira] [Commented] (CAMEL-11099) Unhandled C...</td>\n",
              "      <td>Mon, 03 Apr, 00:01</td>\n",
              "      <td>http://mail-archives.apache.org/mod_mbox/camel...</td>\n",
              "      <td>issues</td>\n",
              "      <td>asf github bot commented camel11099github user...</td>\n",
              "    </tr>\n",
              "    <tr>\n",
              "      <th>2</th>\n",
              "      <td>2</td>\n",
              "      <td>3</td>\n",
              "      <td>Zoran Regvart (JIRA)</td>\n",
              "      <td>[jira] [Resolved] (CAMEL-11099) Unhandled Cl...</td>\n",
              "      <td>Tue, 04 Apr, 13:33</td>\n",
              "      <td>http://mail-archives.apache.org/mod_mbox/camel...</td>\n",
              "      <td>issues</td>\n",
              "      <td>regvart resolved camel11099 resolution fixed a...</td>\n",
              "    </tr>\n",
              "    <tr>\n",
              "      <th>3</th>\n",
              "      <td>3</td>\n",
              "      <td>4</td>\n",
              "      <td>ASF GitHub Bot (JIRA)</td>\n",
              "      <td>[jira] [Commented] (CAMEL-11099) Unhandled C...</td>\n",
              "      <td>Wed, 05 Apr, 01:38</td>\n",
              "      <td>http://mail-archives.apache.org/mod_mbox/camel...</td>\n",
              "      <td>issues</td>\n",
              "      <td>asf github bot commented camel11099github user...</td>\n",
              "    </tr>\n",
              "    <tr>\n",
              "      <th>4</th>\n",
              "      <td>4</td>\n",
              "      <td>5</td>\n",
              "      <td>NaN</td>\n",
              "      <td>[jira] [Commented] (CAMEL-11092) If setting Ex...</td>\n",
              "      <td>NaN</td>\n",
              "      <td>http://mail-archives.apache.org/mod_mbox/camel...</td>\n",
              "      <td>issues</td>\n",
              "      <td>asf github bot commented camel11099github user...</td>\n",
              "    </tr>\n",
              "  </tbody>\n",
              "</table>\n",
              "</div>\n",
              "      <button class=\"colab-df-convert\" onclick=\"convertToInteractive('df-b54d28f7-dea5-45af-a6e8-459ef8f45f7b')\"\n",
              "              title=\"Convert this dataframe to an interactive table.\"\n",
              "              style=\"display:none;\">\n",
              "\n",
              "  <svg xmlns=\"http://www.w3.org/2000/svg\" height=\"24px\"viewBox=\"0 0 24 24\"\n",
              "       width=\"24px\">\n",
              "    <path d=\"M0 0h24v24H0V0z\" fill=\"none\"/>\n",
              "    <path d=\"M18.56 5.44l.94 2.06.94-2.06 2.06-.94-2.06-.94-.94-2.06-.94 2.06-2.06.94zm-11 1L8.5 8.5l.94-2.06 2.06-.94-2.06-.94L8.5 2.5l-.94 2.06-2.06.94zm10 10l.94 2.06.94-2.06 2.06-.94-2.06-.94-.94-2.06-.94 2.06-2.06.94z\"/><path d=\"M17.41 7.96l-1.37-1.37c-.4-.4-.92-.59-1.43-.59-.52 0-1.04.2-1.43.59L10.3 9.45l-7.72 7.72c-.78.78-.78 2.05 0 2.83L4 21.41c.39.39.9.59 1.41.59.51 0 1.02-.2 1.41-.59l7.78-7.78 2.81-2.81c.8-.78.8-2.07 0-2.86zM5.41 20L4 18.59l7.72-7.72 1.47 1.35L5.41 20z\"/>\n",
              "  </svg>\n",
              "      </button>\n",
              "\n",
              "\n",
              "\n",
              "    <div id=\"df-85089008-52a7-4ac0-b680-10d6ca2e84a0\">\n",
              "      <button class=\"colab-df-quickchart\" onclick=\"quickchart('df-85089008-52a7-4ac0-b680-10d6ca2e84a0')\"\n",
              "              title=\"Suggest charts.\"\n",
              "              style=\"display:none;\">\n",
              "\n",
              "<svg xmlns=\"http://www.w3.org/2000/svg\" height=\"24px\"viewBox=\"0 0 24 24\"\n",
              "     width=\"24px\">\n",
              "    <g>\n",
              "        <path d=\"M19 3H5c-1.1 0-2 .9-2 2v14c0 1.1.9 2 2 2h14c1.1 0 2-.9 2-2V5c0-1.1-.9-2-2-2zM9 17H7v-7h2v7zm4 0h-2V7h2v10zm4 0h-2v-4h2v4z\"/>\n",
              "    </g>\n",
              "</svg>\n",
              "      </button>\n",
              "    </div>\n",
              "\n",
              "<style>\n",
              "  .colab-df-quickchart {\n",
              "    background-color: #E8F0FE;\n",
              "    border: none;\n",
              "    border-radius: 50%;\n",
              "    cursor: pointer;\n",
              "    display: none;\n",
              "    fill: #1967D2;\n",
              "    height: 32px;\n",
              "    padding: 0 0 0 0;\n",
              "    width: 32px;\n",
              "  }\n",
              "\n",
              "  .colab-df-quickchart:hover {\n",
              "    background-color: #E2EBFA;\n",
              "    box-shadow: 0px 1px 2px rgba(60, 64, 67, 0.3), 0px 1px 3px 1px rgba(60, 64, 67, 0.15);\n",
              "    fill: #174EA6;\n",
              "  }\n",
              "\n",
              "  [theme=dark] .colab-df-quickchart {\n",
              "    background-color: #3B4455;\n",
              "    fill: #D2E3FC;\n",
              "  }\n",
              "\n",
              "  [theme=dark] .colab-df-quickchart:hover {\n",
              "    background-color: #434B5C;\n",
              "    box-shadow: 0px 1px 3px 1px rgba(0, 0, 0, 0.15);\n",
              "    filter: drop-shadow(0px 1px 2px rgba(0, 0, 0, 0.3));\n",
              "    fill: #FFFFFF;\n",
              "  }\n",
              "</style>\n",
              "\n",
              "    <script>\n",
              "      async function quickchart(key) {\n",
              "        const containerElement = document.querySelector('#' + key);\n",
              "        const charts = await google.colab.kernel.invokeFunction(\n",
              "            'suggestCharts', [key], {});\n",
              "      }\n",
              "    </script>\n",
              "\n",
              "      <script>\n",
              "\n",
              "function displayQuickchartButton(domScope) {\n",
              "  let quickchartButtonEl =\n",
              "    domScope.querySelector('#df-85089008-52a7-4ac0-b680-10d6ca2e84a0 button.colab-df-quickchart');\n",
              "  quickchartButtonEl.style.display =\n",
              "    google.colab.kernel.accessAllowed ? 'block' : 'none';\n",
              "}\n",
              "\n",
              "        displayQuickchartButton(document);\n",
              "      </script>\n",
              "      <style>\n",
              "    .colab-df-container {\n",
              "      display:flex;\n",
              "      flex-wrap:wrap;\n",
              "      gap: 12px;\n",
              "    }\n",
              "\n",
              "    .colab-df-convert {\n",
              "      background-color: #E8F0FE;\n",
              "      border: none;\n",
              "      border-radius: 50%;\n",
              "      cursor: pointer;\n",
              "      display: none;\n",
              "      fill: #1967D2;\n",
              "      height: 32px;\n",
              "      padding: 0 0 0 0;\n",
              "      width: 32px;\n",
              "    }\n",
              "\n",
              "    .colab-df-convert:hover {\n",
              "      background-color: #E2EBFA;\n",
              "      box-shadow: 0px 1px 2px rgba(60, 64, 67, 0.3), 0px 1px 3px 1px rgba(60, 64, 67, 0.15);\n",
              "      fill: #174EA6;\n",
              "    }\n",
              "\n",
              "    [theme=dark] .colab-df-convert {\n",
              "      background-color: #3B4455;\n",
              "      fill: #D2E3FC;\n",
              "    }\n",
              "\n",
              "    [theme=dark] .colab-df-convert:hover {\n",
              "      background-color: #434B5C;\n",
              "      box-shadow: 0px 1px 3px 1px rgba(0, 0, 0, 0.15);\n",
              "      filter: drop-shadow(0px 1px 2px rgba(0, 0, 0, 0.3));\n",
              "      fill: #FFFFFF;\n",
              "    }\n",
              "  </style>\n",
              "\n",
              "      <script>\n",
              "        const buttonEl =\n",
              "          document.querySelector('#df-b54d28f7-dea5-45af-a6e8-459ef8f45f7b button.colab-df-convert');\n",
              "        buttonEl.style.display =\n",
              "          google.colab.kernel.accessAllowed ? 'block' : 'none';\n",
              "\n",
              "        async function convertToInteractive(key) {\n",
              "          const element = document.querySelector('#df-b54d28f7-dea5-45af-a6e8-459ef8f45f7b');\n",
              "          const dataTable =\n",
              "            await google.colab.kernel.invokeFunction('convertToInteractive',\n",
              "                                                     [key], {});\n",
              "          if (!dataTable) return;\n",
              "\n",
              "          const docLinkHtml = 'Like what you see? Visit the ' +\n",
              "            '<a target=\"_blank\" href=https://colab.research.google.com/notebooks/data_table.ipynb>data table notebook</a>'\n",
              "            + ' to learn more about interactive tables.';\n",
              "          element.innerHTML = '';\n",
              "          dataTable['output_type'] = 'display_data';\n",
              "          await google.colab.output.renderOutput(dataTable, element);\n",
              "          const docLink = document.createElement('div');\n",
              "          docLink.innerHTML = docLinkHtml;\n",
              "          element.appendChild(docLink);\n",
              "        }\n",
              "      </script>\n",
              "    </div>\n",
              "  </div>\n"
            ]
          },
          "metadata": {},
          "execution_count": 26
        }
      ]
    },
    {
      "cell_type": "code",
      "source": [],
      "metadata": {
        "id": "3_5DrL41Nscw"
      },
      "execution_count": null,
      "outputs": []
    }
  ]
}